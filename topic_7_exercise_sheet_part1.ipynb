{
 "cells": [
  {
   "cell_type": "markdown",
   "metadata": {},
   "source": [
    "# Solutions for Topic 7 \"Neo4j\" *PART 1*  Exercise Sheet"
   ]
  },
  {
   "cell_type": "markdown",
   "metadata": {},
   "source": [
    "_Note: Cell Language is set to Python and does not does connect to any data source._"
   ]
  },
  {
   "cell_type": "markdown",
   "metadata": {},
   "source": [
    "Create the following nodes with a label :Student with the following properties:</br>\n",
    "*(as per exercise sheet)*</br></br>\n",
    "Create the following nodes with a label :Lecturer with the following properties:</br>\n",
    "*(as per exercise sheet)*</br>\n"
   ]
  },
  {
   "cell_type": "code",
   "execution_count": null,
   "metadata": {},
   "outputs": [],
   "source": [
    "CREATE(:Student{name: \"Tom\", sid: \"G001\", age: 23, sex: \"M\", address: \"Galway\", hair: \"brown\", email: \"tom@gmail.com\"});\n",
    "CREATE(:Student{name: \"Sean\", sid: \"G002\", age: 19, sex: \"M\", address: \"Galway\", email: \"sean@gmail.com\"});\n",
    "CREATE(:Student{name: \"Bob\", sid: \"G003\", age: 22, sex: \"M\", address: \"Mayo\", email: \"bob123@hotmail.com\", twitter: \"@bob123\"});\n",
    "CREATE(:Student{name: \"Mary\", sid: \"G004\", age: 20, sex: \"F\", address: \"Mayo\", hair: \"blonde\", email: \"mary19@gmail.com\", twitter: \"@mary19\", snapchat: \"mary19\"});\n",
    "CREATE(:Student{name: \"Alice\", sid: \"G005\", age: 28, sex: \"F\", address: \"Roscommon\", email: \"alice@hotmail.com\", snapchat: \"alice123\"});\n",
    "CREATE(:Student{name: \"Pat\", sid: \"G006\", age: 24, sex: \"M\", address: \"Roscommon\", email: \"pat@hotmail.com\", twitter: \"patABC\"});\n",
    "\n",
    "CREATE(:Lecturer{name: \"Alan\", sid: \"L001\", age: 57, sex: \"M\", address: \"Galway\", email: \"alan@gmit.ie\",, twitter: \"@alan\"});\n",
    "CREATE(:Lecturer{name: \"Mary\", sid: \"L002\", age: 47, sex: \"F\", address: \"Mayo\", email: \"mary@gmit.ie\", hair: \"brown\"});"
   ]
  },
  {
   "cell_type": "markdown",
   "metadata": {},
   "source": [
    "Find the average age of Students, rounded to the nearest whole number."
   ]
  },
  {
   "cell_type": "code",
   "execution_count": null,
   "metadata": {},
   "outputs": [],
   "source": [
    "MATCH (s:Student) RETURN round(avg(s.age))"
   ]
  },
  {
   "cell_type": "markdown",
   "metadata": {},
   "source": [
    "Show the name of each student and his/her age."
   ]
  },
  {
   "cell_type": "code",
   "execution_count": null,
   "metadata": {},
   "outputs": [],
   "source": [
    "MATCH (s:Student) RETURN s.name, s.age"
   ]
  },
  {
   "cell_type": "markdown",
   "metadata": {},
   "source": [
    "Find the age of the youngest Student."
   ]
  },
  {
   "cell_type": "code",
   "execution_count": null,
   "metadata": {},
   "outputs": [],
   "source": [
    "MATCH (s:Student) \n",
    "WITH min(s.age) AS minAge\n",
    "MATCH (s:Student{age:minAge}) \n",
    "RETURN s.name AS student_name, s.age AS age\n"
   ]
  },
  {
   "cell_type": "markdown",
   "metadata": {},
   "source": [
    "Show the names of students who have a twitter attribute"
   ]
  },
  {
   "cell_type": "code",
   "execution_count": null,
   "metadata": {},
   "outputs": [],
   "source": [
    "MATCH (s:Student {}) WHERE EXISTS(s.twitter) RETURN s.name;"
   ]
  },
  {
   "cell_type": "markdown",
   "metadata": {},
   "source": [
    "Show the number of students who have a twitter attribute."
   ]
  },
  {
   "cell_type": "code",
   "execution_count": null,
   "metadata": {},
   "outputs": [],
   "source": [
    "MATCH (s:Student {}) WHERE EXISTS(s.twitter) RETURN s.name;"
   ]
  },
  {
   "cell_type": "markdown",
   "metadata": {},
   "source": [
    "Show the average of age of people in their 20s, 30s and 40s rounded to one decimal\n",
    "place."
   ]
  },
  {
   "cell_type": "code",
   "execution_count": null,
   "metadata": {},
   "outputs": [],
   "source": [
    "MATCH (s) \n",
    "WITH s, CASE\n",
    "    WHEN s.age >= 20 AND s.age < 30 THEN '20'\n",
    "    WHEN s.age >= 30 AND s.age < 40 THEN '30'\n",
    "    WHEN s.age >= 40 AND s.age < 50 THEN '40'\n",
    "    ELSE 'Other'\n",
    "END AS ageGroup\n",
    "WHERE s.age IS NOT NULL\n",
    "RETURN ageGroup, round(s.age,1)"
   ]
  },
  {
   "cell_type": "markdown",
   "metadata": {},
   "source": [
    "Show all the properties for the Student Tom"
   ]
  },
  {
   "cell_type": "code",
   "execution_count": null,
   "metadata": {},
   "outputs": [],
   "source": [
    "MATCH (s:Student {name:\"Tom\"}) RETURN s;"
   ]
  },
  {
   "cell_type": "markdown",
   "metadata": {},
   "source": [
    "Increase everyone’s age by 1."
   ]
  },
  {
   "cell_type": "code",
   "execution_count": null,
   "metadata": {},
   "outputs": [],
   "source": [
    "MATCH (s) SET s.age = s.age + 1 RETURN s;"
   ]
  },
  {
   "cell_type": "markdown",
   "metadata": {},
   "source": [
    "Return the name and age of all males living in Galway."
   ]
  },
  {
   "cell_type": "code",
   "execution_count": null,
   "metadata": {},
   "outputs": [],
   "source": [
    "MATCH (n {address: \"Galway\", sex: \"M\"}) RETURN n.name, n.age;"
   ]
  },
  {
   "cell_type": "markdown",
   "metadata": {},
   "source": [
    "Create the following nodes with both :Student and :Lecturer labels "
   ]
  },
  {
   "cell_type": "code",
   "execution_count": null,
   "metadata": {},
   "outputs": [],
   "source": [
    "CREATE (n:Student:Lecturer {name: “Yvonne”, age: 37, sex: “F”, address: “Galway”, email: \"yvonne@gmit.ie\",twitter: “@yv12”});\n",
    "CREATE (n:Student:Lecturer {name: “Walter”, age: 44, address: “Galway”, email: \"walter@gmit.ie\", hair: “black”});"
   ]
  },
  {
   "cell_type": "markdown",
   "metadata": {},
   "source": [
    "Show the name, age and hair colour of everyone who is both a Student and a\n",
    "Lecturer."
   ]
  },
  {
   "cell_type": "code",
   "execution_count": null,
   "metadata": {},
   "outputs": [],
   "source": [
    "MATCH (n:Student:Lecturer) RETURN n.name, n.age, n.hair;"
   ]
  },
  {
   "cell_type": "markdown",
   "metadata": {},
   "source": [
    "Update the twitter attribute of all lectures to have GMIT after their existing twitter name.\n",
    "E.g. “@alan” should become “@alanGMIT”."
   ]
  },
  {
   "cell_type": "code",
   "execution_count": null,
   "metadata": {},
   "outputs": [],
   "source": [
    "MATCH (n:Lecturer) WHERE n.twitter IS NOT NULL RETURN n.twitter + 'GMIT';"
   ]
  },
  {
   "cell_type": "markdown",
   "metadata": {},
   "source": [
    "Find the average age of Males and find the youngest Male(s).</br>\n",
    "Then return the name (as Name) and age (as Age) of the youngest Male(s) as well as</br>\n",
    "the average age of Males (as AverageAge) and the difference in age between the</br>\n",
    "youngest Male(s) and the average age (as Difference).</br></br>\n",
    "E.g., If the average age of Males was 30, and the youngest Male was called “Tony”</br>\n",
    "aged 20, the following should be returned:</br></br></br>\n",
    "\n",
    "| Name | Age | AverageAge | Difference|\n",
    "| --- | --- | --- | --- |\n",
    "| Tony| 20 | 30 | 10|"
   ]
  },
  {
   "cell_type": "code",
   "execution_count": null,
   "metadata": {},
   "outputs": [],
   "source": [
    "MATCH(s:Student{sex:\"M\"}) \n",
    "WITH avg(s.age) AS avgAge\n",
    "MATCH(ss:Student{sex:\"M\"})\n",
    "RETURN ss.name,ss.age, avgAge, abs(ss.age - avgAge) AS Difference\n",
    "ORDER BY ss.age ASC\n",
    "LIMIT 1;"
   ]
  }
 ],
 "metadata": {
  "language_info": {
   "name": "python"
  }
 },
 "nbformat": 4,
 "nbformat_minor": 2
}
