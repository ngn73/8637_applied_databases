{
 "cells": [
  {
   "cell_type": "markdown",
   "metadata": {},
   "source": [
    "# Solutions for Topic 7 \"Neo4j\" *PART 2*  Exercise Sheet"
   ]
  },
  {
   "cell_type": "markdown",
   "metadata": {},
   "source": [
    "_Note: Cell Language is set to Python and does not does connect to any data source._"
   ]
  },
  {
   "cell_type": "markdown",
   "metadata": {},
   "source": [
    "Show each movie node for movies that were released between 2000 and 2010"
   ]
  },
  {
   "cell_type": "code",
   "execution_count": null,
   "metadata": {},
   "outputs": [],
   "source": [
    "MATCH(m:Movie) WHERE m.released >= 2000 AND m.released <= 2010 RETURN m"
   ]
  },
  {
   "cell_type": "markdown",
   "metadata": {},
   "source": [
    "Set an attribute called olderThan70 to true for all Persons born in the 1930s"
   ]
  },
  {
   "cell_type": "code",
   "execution_count": null,
   "metadata": {},
   "outputs": [],
   "source": [
    "MATCH(p:Person) WHERE p.born >= 1930 AND p.born <= 1939 SET p.olderThan70 = true"
   ]
  },
  {
   "cell_type": "markdown",
   "metadata": {},
   "source": [
    "Show the movie title and the year it was released for the first 10 movies in\n",
    "alphabetical order."
   ]
  },
  {
   "cell_type": "code",
   "execution_count": null,
   "metadata": {},
   "outputs": [],
   "source": [
    "MATCH(m:Movie) RETURN m.title, m.released\n",
    "ORDER BY m.title LIMIT 10"
   ]
  },
  {
   "cell_type": "markdown",
   "metadata": {},
   "source": [
    "Show the unique years in which movies were released in chronological order"
   ]
  },
  {
   "cell_type": "code",
   "execution_count": null,
   "metadata": {},
   "outputs": [],
   "source": []
  },
  {
   "cell_type": "markdown",
   "metadata": {},
   "source": [
    "Show the title and tagline for movies released in 1999."
   ]
  },
  {
   "cell_type": "code",
   "execution_count": null,
   "metadata": {},
   "outputs": [],
   "source": [
    "MATCH(m:Movie {released:1999}) RETURN m.title, m.tagline"
   ]
  },
  {
   "cell_type": "markdown",
   "metadata": {},
   "source": [
    "Show the names of the people (as People) and the year they were born (as YOB)\n",
    "for everyone older than “Robin Williams”.\n"
   ]
  },
  {
   "cell_type": "code",
   "execution_count": null,
   "metadata": {},
   "outputs": [],
   "source": [
    "MATCH(rw:Person {name: \"Robin Williams\"})  \n",
    "WITH rw.born AS RW_BORN \n",
    "MATCH(p:Person) \n",
    "WHERE p.born < RW_BORN \n",
    "RETURN p.name AS People, p.born AS YOB"
   ]
  },
  {
   "cell_type": "markdown",
   "metadata": {},
   "source": [
    "Show the number of movies released in 2006 (as Releases_in_2006)."
   ]
  },
  {
   "cell_type": "code",
   "execution_count": null,
   "metadata": {},
   "outputs": [],
   "source": [
    "MATCH(m:Movie{released: 2006}) RETURN COUNT(m) AS Releases_in_2006"
   ]
  },
  {
   "cell_type": "markdown",
   "metadata": {},
   "source": [
    "Show the name (as Name) and born (as YOB) the youngest Person(s)."
   ]
  },
  {
   "cell_type": "code",
   "execution_count": null,
   "metadata": {},
   "outputs": [],
   "source": [
    "MATCH(p:Person) \n",
    "WHERE p.born IS NOT NULL\n",
    "RETURN p.name AS Name, p.born AS YOB\n",
    "ORDER BY p.born DESC\n",
    "LIMIT 1;"
   ]
  }
 ],
 "metadata": {
  "language_info": {
   "name": "python"
  }
 },
 "nbformat": 4,
 "nbformat_minor": 2
}
