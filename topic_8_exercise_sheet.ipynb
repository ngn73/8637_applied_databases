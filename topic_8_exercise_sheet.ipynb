{
 "cells": [
  {
   "cell_type": "markdown",
   "id": "af2b6fa9",
   "metadata": {},
   "source": [
    "# Solutions for Topic 8 \"Neo4j\" Relationships  Exercise Sheet"
   ]
  },
  {
   "cell_type": "markdown",
   "id": "a8263097",
   "metadata": {},
   "source": [
    "_Note: Cell Language is set to Python and does not does connect to any data source._"
   ]
  },
  {
   "cell_type": "markdown",
   "id": "d04a2005",
   "metadata": {},
   "source": [
    "# Part 1:"
   ]
  },
  {
   "cell_type": "markdown",
   "id": "eb2ea250",
   "metadata": {},
   "source": [
    "Creation Scripts as follows ..."
   ]
  },
  {
   "cell_type": "code",
   "execution_count": null,
   "id": "3c14b962",
   "metadata": {},
   "outputs": [],
   "source": [
    "MATCH (t:TOWN {name:\"Galway\"}),(c:COUNTY {name:\"Galway\"}) CREATE (t)-[:PART_OF {COUNTYTOWN:true}]->(c);\n",
    "MATCH (t:TOWN {name:\"Tuam\"}),(c:COUNTY {name:\"Galway\"}) CREATE (t)-[:PART_OF ]->(c);\n",
    "MATCH (t:TOWN {name:\"Clifden\"}),(c:COUNTY {name:\"Galway\"}) CREATE (t)-[:PART_OF ]->(c);\n",
    "MATCH (t:TOWN {name:\"Carrick-on-Shannon\"}),(c:COUNTY {name:\"Leitrim\"}) CREATE (t)-[:PART_OF {COUNTYTOWN:true}]->(c);\n",
    "MATCH (t:TOWN {name:\"Manorhamilton\"}),(c:COUNTY {name:\"Leitrim\"}) CREATE (t)-[:PART_OF ]->(c);\n",
    "MATCH (t:TOWN {name:\"Castlebar\"}),(c:COUNTY {name:\"Mayo\"}) CREATE (t)-[:PART_OF {COUNTYTOWN:true}]->(c);\n",
    "MATCH (t:TOWN {name:\"Ballina\"}),(c:COUNTY {name:\"Mayo\"}) CREATE (t)-[:PART_OF ]->(c);\n",
    "MATCH (t:TOWN {name:\"Roscommon\"}),(c:COUNTY {name:\"Roscommon\"}) CREATE (t)-[:PART_OF {COUNTYTOWN:true} ]->(c);\n",
    "MATCH (t:TOWN {name:\"Castlerea\"}),(c:COUNTY {name:\"Roscommon\"}) CREATE (t)-[:PART_OF ]->(c);\n",
    "MATCH (t:TOWN {name:\"Sligo\"}),(c:COUNTY {name:\"Sligo\"}) CREATE (t)-[:PART_OF {COUNTYTOWN:true}]->(c);\n",
    "MATCH (t:TOWN {name:\"Collooney\"}),(c:COUNTY {name:\"Sligo\"}) CREATE (t)-[:PART_OF ]->(c);"
   ]
  },
  {
   "cell_type": "code",
   "execution_count": null,
   "id": "bd9776a3",
   "metadata": {},
   "outputs": [],
   "source": [
    "MATCH (p:PERSON {name:\"Tom\"}), (t:TOWN {name:\"Galway\"}) CREATE (p)-[:LIVES_IN]->(t);\n",
    "MATCH (p:PERSON {name:\"Sean\"}), (t:TOWN {name:\"Galway\"}) CREATE (p)-[:LIVES_IN {since:2010}]->(t);\n",
    "MATCH (p:PERSON {name:\"Bob\"}), (t:TOWN {name:\"Galway\"}) CREATE (p)-[:LIVES_IN]->(t);\n",
    "MATCH (p:PERSON {name:\"Mary\"}), (t:TOWN {name:\"Clifden\"}) CREATE (p)-[:LIVES_IN {since:2018}]->(t);\n",
    "MATCH (p:PERSON {name:\"Alice\"}), (t:TOWN {name:\"Clifden\"}) CREATE (p)-[:LIVES_IN {since:2010}]->(t);\n",
    "MATCH (p:PERSON {name:\"Pat\"}), (t:TOWN {name:\"Carrick-on-Shannon\"}) CREATE (p)-[:LIVES_IN {since:1959}]->(t);\n",
    "MATCH (p:PERSON {name:\"Alan\"}), (t:TOWN {name:\"Carrick-on-Shannon\"}) CREATE (p)-[:LIVES_IN]->(t);\n",
    "MATCH (p:PERSON {name:\"Bill\"}), (t:TOWN {name:\"Manorhamilton\"}) CREATE (p)-[:LIVES_IN]->(t);\n",
    "MATCH (p:PERSON {name:\"Yvonne\"}), (t:TOWN {name:\"Castlebar\"}) CREATE (p)-[:LIVES_IN]->(t);\n",
    "MATCH (p:PERSON {name:\"Walter\"}), (t:TOWN {name:\"Ballina\"}) CREATE (p)-[:LIVES_IN]->(t);\n",
    "MATCH (p:PERSON {name:\"Colin\"}), (t:TOWN {name:\"Roscommon\"}) CREATE (p)-[:LIVES_IN]->(t);\n",
    "MATCH (p:PERSON {name:\"Brendan\"}), (t:TOWN {name:\"Castlerea\"}) CREATE (p)-[:LIVES_IN {since:2013}]->(t);\n",
    "MATCH (p:PERSON {name:\"Susan\"}), (t:TOWN {name:\"Castlerea\"}) CREATE (p)-[:LIVES_IN]->(t);\n",
    "MATCH (p:PERSON {name:\"Lucy\"}), (t:TOWN {name:\"Sligo\"}) CREATE (p)-[:LIVES_IN]->(t);\n",
    "MATCH (p:PERSON {name:\"Michael\"}), (t:TOWN {name:\"Sligo\"}) CREATE (p)-[:LIVES_IN]->(t);"
   ]
  },
  {
   "cell_type": "markdown",
   "id": "17fb3d3d",
   "metadata": {},
   "source": [
    "Show the PERSONs who live in Galway TOWN."
   ]
  },
  {
   "cell_type": "code",
   "execution_count": null,
   "id": "b4231230",
   "metadata": {},
   "outputs": [],
   "source": [
    "MATCH (t:TOWN {name:\"Galway\"}) <-[:LIVES_IN]- (p:PERSON) RETURN p"
   ]
  },
  {
   "cell_type": "markdown",
   "id": "504bcf6b",
   "metadata": {},
   "source": [
    "Show the age of the oldest PERSONs who lives in Carrick-on-Shannon."
   ]
  },
  {
   "cell_type": "code",
   "execution_count": null,
   "id": "051947b9",
   "metadata": {},
   "outputs": [],
   "source": [
    "MATCH(t:TOWN {name:\"Carrick-on-Shannon\"})<-[:LIVES_IN]-(p:PERSON) \n",
    "WITH max(p.age) AS maxage\n",
    "MATCH((t1:TOWN {name:\"Carrick-on-Shannon\"})<-[:LIVES_IN]-(p1:PERSON {age:maxage})) \n",
    "RETURN p1.name, p1.age"
   ]
  },
  {
   "cell_type": "markdown",
   "id": "718ce38d",
   "metadata": {},
   "source": [
    "Show the average age of males who live in Roscommon COUNTY."
   ]
  },
  {
   "cell_type": "code",
   "execution_count": null,
   "id": "d3934b04",
   "metadata": {},
   "outputs": [],
   "source": [
    "MATCH(c:COUNTY {name:\"Roscommon\"})<-[:PART_OF]-(t:TOWN)<-[:LIVES_IN]-(p:PERSON {sex:\"M\"}) RETURN avg(p.age);"
   ]
  },
  {
   "cell_type": "markdown",
   "id": "9bc62c59",
   "metadata": {},
   "source": [
    "Show the number of males who live in Galway COUNTY."
   ]
  },
  {
   "cell_type": "code",
   "execution_count": null,
   "id": "c030537d",
   "metadata": {},
   "outputs": [],
   "source": [
    "MATCH(c:COUNTY {name:\"Galway\"})<-[:PART_OF]-(t:TOWN)<-[:LIVES_IN]-(p:PERSON {sex:\"M\"}) RETURN count(p);"
   ]
  },
  {
   "cell_type": "markdown",
   "id": "21cf45ba",
   "metadata": {},
   "source": [
    "Show the name and population of the COUNTY where Lucy lives."
   ]
  },
  {
   "cell_type": "code",
   "execution_count": null,
   "id": "c9d09452",
   "metadata": {},
   "outputs": [],
   "source": [
    "MATCH (p:PERSON {name:\"Lucy\"})-[:LIVES_IN]->(t:TOWN)-[:PART_OF]->(c:COUNTY)\n",
    "RETURN c.name AS name, c.pop AS population"
   ]
  },
  {
   "cell_type": "markdown",
   "id": "03b2439f",
   "metadata": {},
   "source": [
    "Show the COUNTY name , TOWN name and PERSON name where the person has lived \n",
    "in the town since the year 2010"
   ]
  },
  {
   "cell_type": "code",
   "execution_count": null,
   "id": "34eeaf32",
   "metadata": {},
   "outputs": [],
   "source": [
    "MATCH (p:PERSON)-[LIVES_IN {since:2010}]->(t:TOWN)-[:PART_OF]->(c:COUNTY) RETURN c.name AS CountyName, t.name AS TownName, p.name AS PersonName;"
   ]
  },
  {
   "cell_type": "markdown",
   "id": "3db21723",
   "metadata": {},
   "source": [
    "Show the COUNTY name and the TOWN name of all towns with a population of less \n",
    "than 5000."
   ]
  },
  {
   "cell_type": "code",
   "execution_count": null,
   "id": "9df047e1",
   "metadata": {},
   "outputs": [],
   "source": [
    "MATCH (t:TOWN)-[:PART_OF]->(c:COUNTY) WHERE t.pop < 5000 RETURN c.name AS CountyName, t.name AS TownName, t.pop AS TownPopulation;"
   ]
  },
  {
   "cell_type": "markdown",
   "id": "d7c7f8c1",
   "metadata": {},
   "source": [
    "For people living in towns since 2011 or later, show the person’s name (as Name), how \n",
    "long they’ve been living in the town (as Since), and the name of the town (as Town), in \n",
    "chronological order."
   ]
  },
  {
   "cell_type": "code",
   "execution_count": null,
   "id": "44615e2f",
   "metadata": {},
   "outputs": [],
   "source": [
    "MATCH (p:PERSON)-[r:LIVES_IN]->(t:TOWN) \n",
    "WHERE r.since <=2011 \n",
    "RETURN p.name AS Name, r.since AS Since, t.name as Town\n",
    "ORDER By r.since"
   ]
  },
  {
   "cell_type": "markdown",
   "id": "ef7fbdb0",
   "metadata": {},
   "source": [
    "Show the total population of the towns in county Galway (as County_Galway_Pop)"
   ]
  },
  {
   "cell_type": "code",
   "execution_count": null,
   "id": "60c2bb2a",
   "metadata": {},
   "outputs": [],
   "source": [
    "MATCH (c:COUNTY {name:\"Galway\"})<-[:PART_OF]-(t:TOWN) RETURN sum(t.pop) AS County_Galway_Pop"
   ]
  },
  {
   "cell_type": "markdown",
   "id": "38111c3d",
   "metadata": {},
   "source": [
    "Show the county name (as County), the towns in the county (as Towns) and the number \n",
    "of towns in the county (as Num_Towns)."
   ]
  },
  {
   "cell_type": "code",
   "execution_count": null,
   "id": "b25622d6",
   "metadata": {},
   "outputs": [],
   "source": [
    "MATCH(c:COUNTY)<-[:PART_OF]-(t:TOWN) RETURN c.name AS County, COLLECT (t.name) AS Towns, COUNT(t) AS Num_Towns"
   ]
  },
  {
   "cell_type": "markdown",
   "id": "4df3cff5",
   "metadata": {},
   "source": [
    "# Part 2"
   ]
  },
  {
   "cell_type": "markdown",
   "id": "5761bdf1",
   "metadata": {},
   "source": [
    "Show the names of Bill’s hobbies."
   ]
  },
  {
   "cell_type": "code",
   "execution_count": null,
   "id": "f4fcba0d",
   "metadata": {},
   "outputs": [],
   "source": [
    "MATCH (p:Person {name: \"Bill\"})-[:LIKES]->(h:Hobby) RETURN h.name"
   ]
  },
  {
   "cell_type": "markdown",
   "id": "5ad4b8c7",
   "metadata": {},
   "source": [
    "Show the names of hobbies people who live in Galway like (as Galway_Hobbies) in \n",
    "alphabetical order."
   ]
  },
  {
   "cell_type": "code",
   "execution_count": null,
   "id": "0e67e16b",
   "metadata": {},
   "outputs": [],
   "source": [
    "MATCH (c:County {name:\"Galway\"})<-[:LIVES_IN]-(p:Person)-[:LIKES]->(h:Hobby) RETURN h.name AS Galwat_Hobbies\n",
    "ORDER BY h.name"
   ]
  },
  {
   "cell_type": "markdown",
   "id": "3dc53702",
   "metadata": {},
   "source": [
    "Show all friends-of-friends of Tom.  \n",
    "A friend-of-a-friend (FOAF) is someone whom your friend is friends with, but not you.  \n",
    "In the example below, Bill and Bob are FOAFs of Tom.  \n",
    "Ann is a friend of Tom, and her friend is Sarah. So, Sarah would be a FOAF of Tom, but   \n",
    "as Tom is already friends with her, she’s not FOAF of Tom. Similarly, for Ann and Sean.  "
   ]
  },
  {
   "cell_type": "code",
   "execution_count": null,
   "id": "1cf9cb6d",
   "metadata": {},
   "outputs": [],
   "source": [
    "MATCH (p:Person {name: \"Tom\"})-[:FRIENDS_WITH]-()-[:FRIENDS_WITH]-(foaf:Person)\n",
    "WHERE NOT EXISTS ((p)-[:FRIENDS_WITH]-(foaf))\n",
    "RETURN foaf;\n",
    "\n",
    "# ... or ...\n",
    "\n",
    "MATCH (p:Person {name: \"Tom\"})-[:FRIENDS_WITH*2]-(foaf:Person)\n",
    "WHERE NOT EXISTS ((p)-[:FRIENDS_WITH]-(foaf))\n",
    "RETURN foaf;"
   ]
  },
  {
   "cell_type": "markdown",
   "id": "a57cc6dd",
   "metadata": {},
   "source": [
    "Show the unique hobbies that people who live in Westmeath like (as Westmeath_Hobbies)"
   ]
  },
  {
   "cell_type": "code",
   "execution_count": null,
   "id": "5cb57b48",
   "metadata": {},
   "outputs": [],
   "source": [
    "MATCH (c:County {name:\"Westmeath\"})<-[LIVES_IN]-(p)-[LIKES]->(h:Hobby) RETURN DISTINCT h.name AS WestmeathHobbies"
   ]
  },
  {
   "cell_type": "markdown",
   "id": "20232924",
   "metadata": {},
   "source": [
    "Show the number of people who like relaxation hobbies (as Relaxation)."
   ]
  },
  {
   "cell_type": "code",
   "execution_count": null,
   "id": "1ac56fea",
   "metadata": {},
   "outputs": [],
   "source": [
    "MATCH (h:Hobby {type:\"relaxation\"})<-[:LIKES]-(p:Person) RETURN DISTINCT COUNT(DISTINCT p) AS Relaxation"
   ]
  },
  {
   "cell_type": "markdown",
   "id": "da36fe55",
   "metadata": {},
   "source": [
    "Show a heading called Likes_Basketball that returns true if Sarah LIKES basketball, or \n",
    "false if Sarah doesn’t like basketball."
   ]
  },
  {
   "cell_type": "code",
   "execution_count": null,
   "id": "d5a10fa3",
   "metadata": {},
   "outputs": [],
   "source": [
    "MATCH (h:Hobby {name:\"Basketball\"}), (p:Person {name:\"Sarah\"})\n",
    "RETURN EXISTS((p)-[:LIKES]->(h)) AS Likes_Basketball"
   ]
  }
 ],
 "metadata": {
  "kernelspec": {
   "display_name": "base",
   "language": "python",
   "name": "python3"
  },
  "language_info": {
   "codemirror_mode": {
    "name": "ipython",
    "version": 3
   },
   "file_extension": ".py",
   "mimetype": "text/x-python",
   "name": "python",
   "nbconvert_exporter": "python",
   "pygments_lexer": "ipython3",
   "version": "3.12.7"
  }
 },
 "nbformat": 4,
 "nbformat_minor": 5
}
