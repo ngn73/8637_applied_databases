{
 "cells": [
  {
   "cell_type": "markdown",
   "metadata": {},
   "source": [
    "# Solutions for Topic 4 Exercise Sheet"
   ]
  },
  {
   "cell_type": "markdown",
   "metadata": {},
   "source": [
    "_Note: Cell Language is set to MSSQL and does connect to any data source. SQL generated on 2425-AppDB machine with garage database.</br>\n",
    "Comment are in MS SQL Format \"--\"_"
   ]
  },
  {
   "cell_type": "markdown",
   "metadata": {},
   "source": [
    "1. Get garage.sql from Moodle and import it into MySQL."
   ]
  },
  {
   "cell_type": "markdown",
   "metadata": {},
   "source": [
    "Done ..."
   ]
  },
  {
   "cell_type": "markdown",
   "metadata": {},
   "source": [
    "2. How are the tables in the database related?"
   ]
  },
  {
   "cell_type": "markdown",
   "metadata": {},
   "source": [
    "The **vehicle** Table has a foreign key [_manu_code_] that references **manufacturer** table's primary Key [_manu_code_]. These fields are of type varchar(3)"
   ]
  },
  {
   "cell_type": "markdown",
   "metadata": {},
   "source": [
    "3. Show the manu_code, manu_name and the first 10 characters of the manu_details followed\n",
    "by three dots (…) for each manufacturer."
   ]
  },
  {
   "cell_type": "code",
   "execution_count": null,
   "metadata": {
    "vscode": {
     "languageId": "sql"
    }
   },
   "outputs": [],
   "source": [
    "USE garage;\n",
    "\n",
    "SELECT manu_code, manu_name, CONCAT(SUBSTRING(manu_details, 1,10), '...')\n",
    "FROM manufacturer;"
   ]
  },
  {
   "cell_type": "markdown",
   "metadata": {},
   "source": [
    "4. Show the average length of the manu_name (displayed as “Length”) with 0 characters after\n",
    "the decimal point.\n",
    "HINT: Functions needed are avg(), length() and format()."
   ]
  },
  {
   "cell_type": "code",
   "execution_count": null,
   "metadata": {
    "vscode": {
     "languageId": "sql"
    }
   },
   "outputs": [],
   "source": [
    "USE garage;\n",
    "\n",
    "SELECT FORMAT(AVG(LENGTH(manu_name)),0) AS 'Length'\n",
    "FROM manufacturer;"
   ]
  },
  {
   "cell_type": "markdown",
   "metadata": {},
   "source": [
    "5. Show all details of all vehicles plus an extra column called “cost” which has the value 1.45 if\n",
    "the fuel is petrol otherwise has the value 1.30."
   ]
  },
  {
   "cell_type": "code",
   "execution_count": null,
   "metadata": {
    "vscode": {
     "languageId": "sql"
    }
   },
   "outputs": [],
   "source": [
    "USE garage;\n",
    "\n",
    "SELECT v.*, IF(fuel = 'petrol', 1.45, 1.3) AS 'cost'\n",
    "FROM vehicle v;"
   ]
  },
  {
   "cell_type": "markdown",
   "metadata": {},
   "source": [
    "6. Show all the reg, manu_code and associated manu_name for each vehicle."
   ]
  },
  {
   "cell_type": "code",
   "execution_count": null,
   "metadata": {
    "vscode": {
     "languageId": "sql"
    }
   },
   "outputs": [],
   "source": [
    "USE garage;\n",
    "\n",
    "SELECT v.reg, v.manu_code, m.manu_name\n",
    "FROM vehicle v LEFT OUTER JOIN manufacturer m\n",
    "ON v.manu_code = m.manu_code;\n"
   ]
  },
  {
   "cell_type": "markdown",
   "metadata": {},
   "source": [
    "7. Show the manu_code and manu_name as well as associated reg, for each manufacturer who\n",
    "has vehicles listed in the vehicle table."
   ]
  },
  {
   "cell_type": "code",
   "execution_count": null,
   "metadata": {
    "vscode": {
     "languageId": "sql"
    }
   },
   "outputs": [],
   "source": [
    "USE garage;\n",
    "\n",
    "SELECT m.manu_code, m.manu_name, v.reg\n",
    "FROM manufacturer m INNER JOIN vehicle v\n",
    "ON m.manu_code = v.manu_code;"
   ]
  },
  {
   "cell_type": "markdown",
   "metadata": {},
   "source": [
    "8. Show the manu_code and manu_name as well as associated reg, for all manufacturers and if\n",
    "they have vehicles listed in the vehicle table, show the reg of it."
   ]
  },
  {
   "cell_type": "code",
   "execution_count": null,
   "metadata": {
    "vscode": {
     "languageId": "sql"
    }
   },
   "outputs": [],
   "source": [
    "USE garage;\n",
    "\n",
    "SELECT m.manu_code, m.manu_name, IF(v.reg IS NOT NULL, v.reg, '') AS 'reg' --Do not display \"NULL\"\n",
    "FROM manufacturer m LEFT JOIN vehicle v\n",
    "ON m.manu_code = v.manu_code;"
   ]
  },
  {
   "cell_type": "markdown",
   "metadata": {
    "vscode": {
     "languageId": "sql"
    }
   },
   "source": [
    "9. Write a stored procedure called price_less_than that takes one parameter of type\n",
    "decimal(8,2) which represents the price of a vehicle:\n",
    "price_less_than(p decimal(8,2))\n",
    "The procedure should then return the following details for all vehicles where the price of the\n",
    "vehicle is less than p sorted by ascending price:\n",
    "• Reg\n",
    "• Manu_code\n",
    "• Manu_name\n",
    "• Mileage\n",
    "• Price"
   ]
  },
  {
   "cell_type": "code",
   "execution_count": null,
   "metadata": {
    "vscode": {
     "languageId": "sql"
    }
   },
   "outputs": [],
   "source": [
    "DELIMITER //\n",
    "CREATE PROCEDURE price_less (IN test_amt INT)\n",
    "BEGIN\n",
    "\tSELECT v.reg AS 'Reg', v.manu_code AS 'Manu_code', m.manu_name AS 'Manu_name', v.mileage AS 'Mileage', v.price AS 'Price'\n",
    "\tFROM vehicle v INNER JOIN manufacturer m\n",
    "\tON v.manu_code = m.manu_code\n",
    "\tWHERE price < test_amt \n",
    "\tORDER by price ASC;\n",
    "END //\n",
    "\n",
    "DELIMITER ;\n"
   ]
  }
 ],
 "metadata": {
  "language_info": {
   "name": "python"
  }
 },
 "nbformat": 4,
 "nbformat_minor": 2
}
