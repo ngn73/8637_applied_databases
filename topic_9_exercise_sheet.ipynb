{
 "cells": [
  {
   "cell_type": "markdown",
   "metadata": {},
   "source": [
    "# Solutions for Topic 9 Python I Exercise Sheet"
   ]
  },
  {
   "cell_type": "markdown",
   "metadata": {},
   "source": [
    "Write a Python program that has 2 arrays in the main function:</br>\n",
    "- One containing several elements which are numbers.</br>\n",
    "- The other empty.</br>\n",
    "\n",
    "Write another function which accepts a number as a parameter and returns the</br>\n",
    "number doubled.</br>\n",
    "The main function should call this function for each element of the 1st array and</br>\n",
    "populate the 2nd array with the doubled values.</br>\n",
    "When the 2nd array is full it should be printed out</br>"
   ]
  },
  {
   "cell_type": "code",
   "execution_count": null,
   "metadata": {},
   "outputs": [],
   "source": []
  }
 ],
 "metadata": {
  "language_info": {
   "name": "python"
  }
 },
 "nbformat": 4,
 "nbformat_minor": 2
}
