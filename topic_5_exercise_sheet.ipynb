{
 "cells": [
  {
   "cell_type": "markdown",
   "metadata": {},
   "source": [
    "# Solutions for Topic 5 Exercise Sheet"
   ]
  },
  {
   "cell_type": "markdown",
   "metadata": {},
   "source": [
    "1. Get bus.sql from Moodle and import it into MySQL."
   ]
  },
  {
   "cell_type": "markdown",
   "metadata": {},
   "source": [
    "*Done ...*"
   ]
  },
  {
   "cell_type": "markdown",
   "metadata": {},
   "source": [
    "2. How are the tables in the database related?"
   ]
  },
  {
   "cell_type": "markdown",
   "metadata": {},
   "source": [
    "*2 Tables bus and driver are related with the bus primary key reg and driver foreign key busreg*"
   ]
  },
  {
   "cell_type": "markdown",
   "metadata": {},
   "source": [
    "3. Add the following drivers:</br>\n",
    "“Mary”</br>\n",
    "“Bob” – licence number “RN2423”</br>\n",
    "“Sean” – licence number “FF88345” who drives bus “191-G-123”</br>\n",
    "What happens and why?</br>\n"
   ]
  },
  {
   "cell_type": "markdown",
   "metadata": {},
   "source": [
    "*Mary:</br>\n",
    "ERROR 1364 (HY000): Field 'licenceNo' doesn't have a default value</br>\n",
    "Bob:</br>\n",
    "INSERTs with a NULL busreg (no relation to bus)</br>\n",
    "Sean:</br> \n",
    "INSERTs with relation to 191-G-123 bus</br>*"
   ]
  },
  {
   "cell_type": "markdown",
   "metadata": {},
   "source": [
    "Add the following buses:\n",
    "\"12-G-1323\" that can hold up to 34 passengers and runs on \"Diesel\"\n",
    "\"171-G-885\" that can hold up to 84 passengers and runs on \"Petrol\"\n",
    "\"191-D-45890\" that can hold up to 120 passengers and runs on \"Ethanol\"\n",
    "What happens and why?"
   ]
  },
  {
   "cell_type": "markdown",
   "metadata": {},
   "source": [
    "Update driver’s licences that contain the letters “F” or “R” to have the letters “T-“ before\n",
    "their current licence number."
   ]
  },
  {
   "cell_type": "code",
   "execution_count": null,
   "metadata": {
    "vscode": {
     "languageId": "sql"
    }
   },
   "outputs": [],
   "source": [
    "USE bus;\n",
    " \n",
    "UPDATE driver SET licenceNo = CONCAT(\"T-\", licenceNo)\n",
    "WHERE (licenceNo LIKE \"%F%\" OR licenceNo LIKE \"%R%\")"
   ]
  },
  {
   "cell_type": "markdown",
   "metadata": {},
   "source": [
    "Delete driver “Alan”. What happens and why?"
   ]
  },
  {
   "cell_type": "code",
   "execution_count": null,
   "metadata": {
    "vscode": {
     "languageId": "sql"
    }
   },
   "outputs": [],
   "source": [
    "DELETE FROm driver WHERE name = \"Alan\";"
   ]
  },
  {
   "cell_type": "markdown",
   "metadata": {},
   "source": [
    "Delete bus “reg = '161-d-1323'”. What happens and why?"
   ]
  },
  {
   "cell_type": "code",
   "execution_count": null,
   "metadata": {
    "vscode": {
     "languageId": "sql"
    }
   },
   "outputs": [],
   "source": [
    "DELETE FROM bus WHERE reg = \"161-d-1323\";\n",
    "'''1 Row Deleted"
   ]
  },
  {
   "cell_type": "markdown",
   "metadata": {},
   "source": [
    "8. Get bus2.sql from Moodle and import it into MySQL. To use this database type use bus2;"
   ]
  },
  {
   "cell_type": "markdown",
   "metadata": {},
   "source": [
    "*Done ...*"
   ]
  },
  {
   "cell_type": "markdown",
   "metadata": {},
   "source": [
    "9. Delete bus “161-d-1323”. What happens and why?"
   ]
  },
  {
   "cell_type": "code",
   "execution_count": null,
   "metadata": {
    "vscode": {
     "languageId": "sql"
    }
   },
   "outputs": [],
   "source": [
    "USE bus2;\n",
    " \n",
    " \n",
    "START TRANSACTION;\n",
    "\tSELECT * FROM bus;\n",
    "\tSELECT * FROm driver;\n",
    "    \n",
    "    DELETE FROM bus WHERE reg = \"161-d-1323\";\n",
    "    \n",
    "\tSELECT * FROM bus;\n",
    "\tSELECT * FROm driver;\n",
    "\n",
    "ROLLBACK;\n",
    "\n",
    "''' Deletes record in bus, but also a null foreign key for driver Tom (that referenced that bus)"
   ]
  },
  {
   "cell_type": "markdown",
   "metadata": {},
   "source": [
    "10. Get employees2.sql from Moodle and import it into MySQL. To use this database type use\n",
    "employees2;"
   ]
  },
  {
   "cell_type": "markdown",
   "metadata": {},
   "source": [
    "*Done ...*"
   ]
  },
  {
   "cell_type": "markdown",
   "metadata": {},
   "source": [
    "11. Show the emp_no, first_name and last_name of employees born in the average year.</br>\n",
    "The average year should be rounded down to the nearest whole number. For example,</br>\n",
    "• 1949.1 becomes 1949.</br>\n",
    "• 1949.9 becomes 1949.</br>\n",
    "• 1949.0 becomes 1949.</br>"
   ]
  },
  {
   "cell_type": "code",
   "execution_count": null,
   "metadata": {
    "vscode": {
     "languageId": "sql"
    }
   },
   "outputs": [],
   "source": [
    "USE employees2;\n",
    "\n",
    "SELECT emp_no, first_name, last_name\n",
    "FROM employees \n",
    "WHERE YEAR(birth_date) = FLOOR((SELECT AVG(YEAR(e.birth_date)) FROM employees e));"
   ]
  },
  {
   "cell_type": "markdown",
   "metadata": {},
   "source": [
    "12. Show the emp_no, first_name, last_name and name of the department each employee is in"
   ]
  },
  {
   "cell_type": "code",
   "execution_count": null,
   "metadata": {
    "vscode": {
     "languageId": "sql"
    }
   },
   "outputs": [],
   "source": [
    "USE employees2;\n",
    "\n",
    "SELECT e.emp_no, e.first_name, e.last_name, d.name AS 'Department'\n",
    "FROM employees e INNER JOIN salaries s\n",
    "ON e.emp_no = s.emp_no\n",
    "INNER JOIN dept d\n",
    "ON s.dept_no = d.dept_no;"
   ]
  }
 ],
 "metadata": {
  "language_info": {
   "name": "python"
  }
 },
 "nbformat": 4,
 "nbformat_minor": 2
}
