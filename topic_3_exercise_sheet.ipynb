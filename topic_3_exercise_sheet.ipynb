{
 "cells": [
  {
   "cell_type": "markdown",
   "metadata": {},
   "source": [
    "# Solutions for Topic 3 Exercise Sheet"
   ]
  },
  {
   "cell_type": "markdown",
   "metadata": {},
   "source": [
    "_Note: Cell Language is set to MSSQL and does connect to any data source. SQL generated on 2425-AppDB machine with employees database.</br>\n",
    "Comment are in MS SQL Format \"--\"_"
   ]
  },
  {
   "cell_type": "markdown",
   "metadata": {},
   "source": [
    "1. Get employees.sql from Moodle and import it into MySQL."
   ]
  },
  {
   "cell_type": "markdown",
   "metadata": {},
   "source": [
    "Applied SQL Script to generate MySQL 'employee' database within 2425-appDB machine: [employee.sql](https://github.com/ngn73/8637_applied_databases/blob/main/resources/sql/employees.sql)"
   ]
  },
  {
   "cell_type": "markdown",
   "metadata": {},
   "source": [
    "2. Print out the emp_no, first_name and a capitalised version of the employees last_name,\n",
    "using the same column names that are in the table for the first 10 employees returned from\n",
    "the database"
   ]
  },
  {
   "cell_type": "code",
   "execution_count": null,
   "metadata": {
    "vscode": {
     "languageId": "sql"
    }
   },
   "outputs": [],
   "source": [
    "SELECT emp_no, first_name, UPPER(last_name) FROM employees LIMIT 10;"
   ]
  },
  {
   "cell_type": "markdown",
   "metadata": {},
   "source": [
    "3. Sort the employees table based on:</br>\n",
    "- The length of last_name</br>\n",
    "- Alphabetical order of last_name</br>\n",
    "- The length of first_name</br>\n",
    "- Alphabetical order of first_name</br>"
   ]
  },
  {
   "cell_type": "code",
   "execution_count": null,
   "metadata": {
    "vscode": {
     "languageId": "sql"
    }
   },
   "outputs": [],
   "source": [
    "USE employees;\n",
    "\n",
    "SELECT * FROM employees\n",
    "ORDER BY LENGTH(last_name);\n",
    "\n",
    "SELECT * FROM employees\n",
    "ORDER BY last_name ASC;\n",
    "\n",
    "SELECT * FROM employees\n",
    "ORDER BY LENGTH(first_name);\n",
    "\n",
    "SELECT * FROM employees\n",
    "ORDER BY first_name ASC;"
   ]
  },
  {
   "cell_type": "markdown",
   "metadata": {},
   "source": [
    "4. Show all details of the first 10 employees returned from the database and an extra column\n",
    "called Initials that shows the employee’s initials."
   ]
  },
  {
   "cell_type": "code",
   "execution_count": null,
   "metadata": {
    "vscode": {
     "languageId": "sql"
    }
   },
   "outputs": [],
   "source": [
    "SELECT *, CONCAT(SUBSTRING(first_name, 1, 1), SUBSTRING(last_name, 1, 1)) AS initials FROM employees LIMIT 10;"
   ]
  },
  {
   "cell_type": "markdown",
   "metadata": {},
   "source": [
    "5. Show all details of all Females born in the 1950s and hired between September 1st 1988 and\n",
    "February 28th 1991."
   ]
  },
  {
   "cell_type": "code",
   "execution_count": null,
   "metadata": {
    "vscode": {
     "languageId": "sql"
    }
   },
   "outputs": [],
   "source": [
    "SELECT * FROM employees \n",
    "WHERE \n",
    "gender = 'F'\n",
    "AND\n",
    "YEAR(birth_date) BETWEEN 1950 AND 1959\n",
    "AND\n",
    "hire_date BETWEEN '1988-09-01' AND '1991-02-28';"
   ]
  },
  {
   "cell_type": "markdown",
   "metadata": {},
   "source": [
    "6. Show the average salary from the salaries table formatted to two decimal places.\n",
    "E.g. 12345.6789 should become 12,345.68."
   ]
  },
  {
   "cell_type": "code",
   "execution_count": null,
   "metadata": {
    "vscode": {
     "languageId": "sql"
    }
   },
   "outputs": [],
   "source": [
    "SELECT FORMAT(AVG(salary), 2) AS 'avg_salary' FROM salaries; "
   ]
  },
  {
   "cell_type": "markdown",
   "metadata": {},
   "source": [
    "7. Show the emp_no and average salary for each employee formatted to two decimal places."
   ]
  },
  {
   "cell_type": "code",
   "execution_count": null,
   "metadata": {
    "vscode": {
     "languageId": "sql"
    }
   },
   "outputs": [],
   "source": [
    "\n",
    "SELECT emp_no, FORMAT(AVG(salary), 2) AS 'avg_salary'\n",
    "FROM salaries\n",
    "GROUP BY emp_no;  "
   ]
  },
  {
   "cell_type": "markdown",
   "metadata": {},
   "source": [
    "8. Show the emp_no and maximum salary for each employee formatted to two decimal places."
   ]
  },
  {
   "cell_type": "code",
   "execution_count": null,
   "metadata": {
    "vscode": {
     "languageId": "sql"
    }
   },
   "outputs": [],
   "source": [
    "SELECT emp_no, FORMAT(MAX(salary), 2) AS 'avg_salary'\n",
    "FROM salaries\n",
    "GROUP BY emp_no; \n"
   ]
  },
  {
   "cell_type": "markdown",
   "metadata": {},
   "source": [
    "9. Show the emp_no and average salary formatted to two decimal places for the following\n",
    "employee numbers: 10001, 10021, 10033 and 10087.\n",
    "But only include in the average calculation salaries greater than 80,000."
   ]
  },
  {
   "cell_type": "code",
   "execution_count": null,
   "metadata": {
    "vscode": {
     "languageId": "sql"
    }
   },
   "outputs": [],
   "source": [
    "SELECT emp_no, FORMAT(AVG(salary), 2) AS 'avg_salary'\n",
    "FROM salaries \n",
    "WHERE \n",
    "emp_no IN (10001, 10021, 10033, 10087)\n",
    "AND\n",
    "salary > 80000\n",
    "GROUP BY emp_no\n"
   ]
  },
  {
   "cell_type": "markdown",
   "metadata": {},
   "source": [
    "10. Show the emp_no and average salary rounded to the nearest whole number only for\n",
    "average salaries greater than 90,000."
   ]
  },
  {
   "cell_type": "code",
   "execution_count": null,
   "metadata": {
    "vscode": {
     "languageId": "sql"
    }
   },
   "outputs": [],
   "source": [
    "\n",
    "SELECT emp_no, FORMAT(AVG(salary), 0) FROM salaries\n",
    "GROUP BY emp_no\n",
    "HAVING AVG(salary) > 9000;"
   ]
  },
  {
   "cell_type": "markdown",
   "metadata": {},
   "source": [
    "11. Show the following details, in the following order, for the first 15 employees, in emp_no\n",
    "order:\n",
    "ID, Title, Name, Surname, Gender.\n",
    "Title should be “Mr.” if the employee is Male, and “Ms.” if the employee is female. "
   ]
  },
  {
   "cell_type": "code",
   "execution_count": null,
   "metadata": {
    "vscode": {
     "languageId": "sql"
    }
   },
   "outputs": [],
   "source": [
    "SELECT \n",
    "emp_no AS 'ID', \n",
    "CASE\n",
    "\tWHEN gender = 'M' THEN 'Mr.'\n",
    "\tWHEN gender = 'F' THEN 'Ms.'\n",
    "END AS 'Title',\n",
    "first_name AS 'Name', last_name AS 'Surname', gender AS 'Gender'\n",
    "FROM employees\n",
    "ORDER BY emp_no ASC\n",
    "LIMIT 15;"
   ]
  },
  {
   "cell_type": "markdown",
   "metadata": {},
   "source": [
    "12. Show the following details emp_no, the maximum salary for each employee, and the tax\n",
    "bracket the employee’s maximum salary is in (Tax Bracket).\n",
    "Tax brackets are defined as follows:</br>\n",
    "\n",
    "|Max |Salary |Tax Bracket|\n",
    "|----|-------|-----------|\n",
    "|Under| 40,000| 30%|\n",
    "|Under| 60,000| 40%|\n",
    "|Under| 80,000| 50%|\n",
    "|Over| 80,000| 60%|"
   ]
  },
  {
   "cell_type": "code",
   "execution_count": null,
   "metadata": {
    "vscode": {
     "languageId": "sql"
    }
   },
   "outputs": [],
   "source": [
    "SELECT \n",
    "emp_no AS 'ID', \n",
    "FORMAT(MAX(salary), 2) AS 'Max Salary',\n",
    "CASE\n",
    "\tWHEN MAX(salary) < 40000 THEN '30%'\n",
    "\tWHEN MAX(salary) < 60000 THEN '40%'\n",
    "\tWHEN MAX(salary) < 80000 THEN '50%'\n",
    "\tWHEN MAX(salary) >= 80000 THEN '60%'\n",
    "END AS 'Tax Bracket'\n",
    "FROM salaries\n",
    "GROUP BY emp_no"
   ]
  },
  {
   "cell_type": "markdown",
   "metadata": {},
   "source": [
    "13. Show all details from the salaries table as well as a column entitled “Time” which states\n",
    "“Under 1 yr” if the employee has been on a particular salary for less than 365 days,\n",
    "otherwise states “Over 1 yr”."
   ]
  },
  {
   "cell_type": "code",
   "execution_count": null,
   "metadata": {
    "vscode": {
     "languageId": "sql"
    }
   },
   "outputs": [],
   "source": [
    "SELECT *,\n",
    "CASE\n",
    "WHEN DATEDIFF(NOW(), from_date) < 365 THEN 'Under 1 yr' \n",
    "ELSE 'Over 1 yr'\n",
    "END AS 'Time' \n",
    "FROM salaries"
   ]
  },
  {
   "cell_type": "markdown",
   "metadata": {},
   "source": [
    "14. . Using a function show all columns from the employees table, and a column entitled “Age”\n",
    "which is the age the employee was when he or she was hired. The age should be rounded to\n",
    "1 digit after the decimal place.</br>\n",
    "For example, employee 10001 was 32.8 years old when he was hired.</br>\n",
    "**HINT**: Don’t for get to change the delimiter when writing the function and change it back to\n",
    "a semi-colon when the function is written."
   ]
  },
  {
   "cell_type": "markdown",
   "metadata": {
    "vscode": {
     "languageId": "sql"
    }
   },
   "source": [
    "SELECT *, ROUND(( DATEDIFF(curdate(), hire_date) / 365.2), 1) AS AGE\n",
    "FROM employees\n",
    "WHERE emp_no = '10001';\n"
   ]
  },
  {
   "cell_type": "markdown",
   "metadata": {},
   "source": [
    "15. Write a procedure that takes two parameters, one representing a year and the other a\n",
    "month.\n",
    "The procedure should return all employees hired in specified year and month."
   ]
  },
  {
   "cell_type": "code",
   "execution_count": null,
   "metadata": {
    "vscode": {
     "languageId": "sql"
    }
   },
   "outputs": [],
   "source": [
    "CREATE PROCEDURE emp_hired (IN hire_year INT, OUT hire_month INT)\n",
    "       BEGIN\n",
    "        SELECT * FROM employees\n",
    "        WHERE YEAR(date_hire) = hire_year AND MONTH(date_hire) = month_year\n",
    "       END//"
   ]
  },
  {
   "cell_type": "markdown",
   "metadata": {},
   "source": [
    "16. Rewrite the above procedure so that if the month parameter is NULL the procedure returns\n",
    "all employees hired in the specified year.</br>\n",
    "If the month is not NULL, the procedure works as it did previously.</br></br></br>\n",
    "HINT: To call a procedure with a NULL value for month (assuming in this case month is the\n",
    "second parameter) procedure_name(1985, NULL).\n",
    "- To check if a parameter, e.g. m, is NULL say IF M IS NULL THEN</br>\n",
    "- To check if a parameter, e.g. m, is not NULL say IF M IS NOT NULL THEN.</br>"
   ]
  },
  {
   "cell_type": "code",
   "execution_count": null,
   "metadata": {
    "vscode": {
     "languageId": "sql"
    }
   },
   "outputs": [],
   "source": [
    "CREATE PROCEDURE emp_hired (IN hire_year INT, OUT hire_month INT)\n",
    "       BEGIN\n",
    "        SELECT * FROM employees\n",
    "        WHERE (YEAR(date_hire) = hire_year AND (date_month IS NULL OR MONTH(date_hire) = month_year))\n",
    "       END//"
   ]
  }
 ],
 "metadata": {
  "language_info": {
   "name": "python"
  }
 },
 "nbformat": 4,
 "nbformat_minor": 2
}
