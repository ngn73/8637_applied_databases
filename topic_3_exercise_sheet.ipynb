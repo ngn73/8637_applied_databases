{
 "cells": [
  {
   "cell_type": "markdown",
   "metadata": {},
   "source": [
    "# Solutions for Topic 3 Exercise Sheet"
   ]
  },
  {
   "cell_type": "markdown",
   "metadata": {},
   "source": [
    "_Note: Cell Language is set to MSSQL and does connect to any data source. SQL generated on 2425-AppDB machine with employees database.</br>\n",
    "Comment are in MS SQL Format \"--\"_"
   ]
  },
  {
   "cell_type": "markdown",
   "metadata": {},
   "source": [
    "1. Get employees.sql from Moodle and import it into MySQL."
   ]
  },
  {
   "cell_type": "markdown",
   "metadata": {},
   "source": [
    "Applied SQL Script to generate MySQL 'employee' database within 2425-appDB machine: [employee.sql](https://github.com/ngn73/8637_applied_databases/blob/main/resources/sql/employees.sql)"
   ]
  },
  {
   "cell_type": "markdown",
   "metadata": {},
   "source": [
    "2. Print out the emp_no, first_name and a capitalised version of the employees last_name,\n",
    "using the same column names that are in the table for the first 10 employees returned from\n",
    "the database"
   ]
  },
  {
   "cell_type": "code",
   "execution_count": null,
   "metadata": {
    "vscode": {
     "languageId": "sql"
    }
   },
   "outputs": [],
   "source": [
    "SELECT emp_no, first_name, UPPER(last_name) FROM employees LIMIT 10;"
   ]
  },
  {
   "cell_type": "markdown",
   "metadata": {},
   "source": [
    "3. Sort the employees table based on:</br>\n",
    "- The length of last_name</br>\n",
    "- Alphabetical order of last_name</br>\n",
    "- The length of first_name</br>\n",
    "- Alphabetical order of first_name</br>"
   ]
  },
  {
   "cell_type": "code",
   "execution_count": null,
   "metadata": {
    "vscode": {
     "languageId": "sql"
    }
   },
   "outputs": [],
   "source": [
    "USE employees;\n",
    "\n",
    "SELECT * FROM employees\n",
    "ORDER BY LENGTH(last_name);\n",
    "\n",
    "SELECT * FROM employees\n",
    "ORDER BY last_name ASC;\n",
    "\n",
    "SELECT * FROM employees\n",
    "ORDER BY LENGTH(first_name);\n",
    "\n",
    "SELECT * FROM employees\n",
    "ORDER BY first_name ASC;"
   ]
  },
  {
   "cell_type": "markdown",
   "metadata": {},
   "source": [
    "4. Show all details of the first 10 employees returned from the database and an extra column\n",
    "called Initials that shows the employee’s initials."
   ]
  },
  {
   "cell_type": "code",
   "execution_count": null,
   "metadata": {
    "vscode": {
     "languageId": "sql"
    }
   },
   "outputs": [],
   "source": [
    "SELECT *, CONCAT(SUBSTRING(first_name, 1, 1), SUBSTRING(last_name, 1, 1)) AS initials FROM employees LIMIT 10;"
   ]
  },
  {
   "cell_type": "markdown",
   "metadata": {},
   "source": [
    "5. Show all details of all Females born in the 1950s and hired between September 1st 1988 and\n",
    "February 28th 1991."
   ]
  },
  {
   "cell_type": "code",
   "execution_count": null,
   "metadata": {
    "vscode": {
     "languageId": "sql"
    }
   },
   "outputs": [],
   "source": [
    "SELECT * FROM employees \n",
    "WHERE \n",
    "gender = 'F'\n",
    "AND\n",
    "YEAR(birth_date) BETWEEN 1950 AND 1959\n",
    "AND\n",
    "hire_date BETWEEN '1988-09-01' AND '1991-02-28';"
   ]
  },
  {
   "cell_type": "markdown",
   "metadata": {},
   "source": [
    "6. Show the average salary from the salaries table formatted to two decimal places.\n",
    "E.g. 12345.6789 should become 12,345.68."
   ]
  },
  {
   "cell_type": "code",
   "execution_count": null,
   "metadata": {
    "vscode": {
     "languageId": "sql"
    }
   },
   "outputs": [],
   "source": [
    "SELECT FORMAT(AVG(salary), 2) AS 'avg_salary' FROM salaries; "
   ]
  },
  {
   "cell_type": "markdown",
   "metadata": {},
   "source": [
    "7. Show the emp_no and average salary for each employee formatted to two decimal places."
   ]
  },
  {
   "cell_type": "code",
   "execution_count": null,
   "metadata": {
    "vscode": {
     "languageId": "sql"
    }
   },
   "outputs": [],
   "source": [
    "--Cannot aggregate AVG() for each employee record ??\n",
    "SELECT emp_no, FORMAT(salary, 2) AS 'avg_salary' FROM salaries; "
   ]
  }
 ],
 "metadata": {
  "language_info": {
   "name": "python"
  }
 },
 "nbformat": 4,
 "nbformat_minor": 2
}
